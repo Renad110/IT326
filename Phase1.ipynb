{
  "nbformat": 4,
  "nbformat_minor": 0,
  "metadata": {
    "colab": {
      "provenance": [],
      "authorship_tag": "ABX9TyPsHEct3QkssdFFWmocmhXI",
      "include_colab_link": true
    },
    "kernelspec": {
      "name": "python3",
      "display_name": "Python 3"
    },
    "language_info": {
      "name": "python"
    }
  },
  "cells": [
    {
      "cell_type": "markdown",
      "metadata": {
        "id": "view-in-github",
        "colab_type": "text"
      },
      "source": [
        "<a href=\"https://colab.research.google.com/github/Renad110/IT326/blob/main/Phase1.ipynb\" target=\"_parent\"><img src=\"https://colab.research.google.com/assets/colab-badge.svg\" alt=\"Open In Colab\"/></a>"
      ]
    },
    {
      "cell_type": "markdown",
      "source": [
        "## Project Goal\n",
        "The goal of this project is to perform classification and clustering tasks on the Bank Marketing dataset.\n",
        "\n",
        "- Classification: Predict customer responses to marketing campaigns conducted by phone.\n",
        "- Clustering: Group clients with similar characteristics."
      ],
      "metadata": {
        "id": "JORWNAM5R1sB"
      }
    },
    {
      "cell_type": "markdown",
      "source": [
        "## Dataset Source\n",
        "The dataset used in this project is the Bank Marketing Dataset, obtained from the UCI Machine Learning Repository.\n",
        "\n",
        "- Source: UCI Machine Learning Repository – Bank Marketing Dataset  \n",
        "- Link: [https://archive.ics.uci.edu/dataset/222/bank+marketing](https://archive.ics.uci.edu/dataset/222/bank+marketing)  \n",
        "- DOI: [https://doi.org/10.1016/j.dss.2014.03.001](https://doi.org/10.1016/j.dss.2014.03.001)"
      ],
      "metadata": {
        "id": "54vorfAoSU9I"
      }
    },
    {
      "cell_type": "code",
      "source": [
        "from google.colab import files\n",
        "import pandas as pd\n",
        "import io\n",
        "\n",
        "# رفع الملف\n",
        "uploaded = files.upload()\n",
        "\n",
        "# قراءه\n",
        "data = pd.read_csv(io.BytesIO(uploaded['bank-additional-full.csv']), sep=';')\n",
        "\n",
        "# التحقق\n",
        "print(\"Number of instances (rows):\", data.shape[0])\n",
        "print(\"Number of attributes (columns):\", data.shape[1])\n",
        "print(\"\\nClass Attribute (y) value counts:\\n\", data['y'].value_counts())\n",
        "print(\"\\nSample of the dataset:\\n\", data.head())"
      ],
      "metadata": {
        "id": "gpXj92QDcS4u"
      },
      "execution_count": null,
      "outputs": []
    }
  ]
}
